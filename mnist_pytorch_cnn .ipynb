{
  "nbformat": 4,
  "nbformat_minor": 0,
  "metadata": {
    "colab": {
      "name": "mnist_pytorch_CNN.ipynb",
      "provenance": [],
      "collapsed_sections": []
    },
    "kernelspec": {
      "name": "python3",
      "display_name": "Python 3"
    }
  },
  "cells": [
    {
      "cell_type": "code",
      "metadata": {
        "id": "cn5NUrBDU56M",
        "colab_type": "code",
        "colab": {}
      },
      "source": [
        "#Google Colab で実行\n",
        "import torch\n",
        "import torch.nn as nn\n",
        "import torch.nn.functional as F\n",
        "import torch.optim as optim\n",
        "import torch.utils.data as data\n",
        "import numpy as np\n",
        "\n",
        "!pip install sklearn"
      ],
      "execution_count": null,
      "outputs": []
    },
    {
      "cell_type": "code",
      "metadata": {
        "id": "3AHB_SuOVF6C",
        "colab_type": "code",
        "colab": {}
      },
      "source": [
        "#データのロード\n",
        "import tensorflow as tf\n",
        "#訓練データとそれ以外に分ける\n",
        "(X_train, Y_train), (X_test, Y_test) = tf.keras.datasets.mnist.load_data()\n",
        "X_train = X_train.reshape(60000, 1, 1, 28, 28).astype('float32')\n",
        "X_test = X_test.reshape(10000, 1, 1, 28, 28).astype('float32')\n",
        "\n",
        "#標準化\n",
        "X_train /= 255\n",
        "X_test /= 255\n",
        "\n",
        "Y_train = Y_train.astype('long')\n",
        "Y_test = Y_test.astype('long')\n",
        " \n",
        "#テスト用データと検証用データに分ける\n",
        "from sklearn.model_selection import train_test_split\n",
        "X_val, X_test, Y_val, Y_test = train_test_split(X_test, Y_test, test_size=0.5)\n",
        "\n",
        "batch_size = 100\n",
        "print(X_val.shape, Y_val.shape)"
      ],
      "execution_count": null,
      "outputs": []
    },
    {
      "cell_type": "code",
      "metadata": {
        "id": "7T4IalrJVMbB",
        "colab_type": "code",
        "colab": {}
      },
      "source": [
        "import torch.nn.functional as F\n",
        "#モデルの構築\n",
        "class CNN(nn.Module):\n",
        "  def __init__(self):\n",
        "    super(CNN, self).__init__()\n",
        "\n",
        "    self.conv1 = nn.Conv2d(1, 16, 4, 2, padding=1)\n",
        "    self.conv2 = nn.Conv2d(16, 32, 3, padding=1)\n",
        "    self.dropout1 = nn.Dropout(0.30)\n",
        "    self.dropout2 = nn.Dropout(0.60)\n",
        "\n",
        "    self.layer1 = nn.Linear(64*14*14, 128)\n",
        "    self.layer2 = nn.Linear(128, 10)\n",
        "\n",
        "    self.relu = nn.ReLU()\n",
        "    self.softplus = nn.Softplus()\n",
        "    \n",
        "  def forward(self, x):\n",
        "    x = self.relu(self.conv1(x))\n",
        "    x = self.relu(self.conv2(x))\n",
        "    x = F.max_pool2d(x, (2, 2))\n",
        "    x = self.dropout1(x)\n",
        "\n",
        "    x = x.view(-1, 664*14*14)\n",
        "    x = self.relu(self.layer1(x))\n",
        "    x = self.dropout2(x)\n",
        "    x = self.softplus(self.layer2(x))\n",
        "    return x\n",
        " \n",
        "model = CNN().to(device)"
      ],
      "execution_count": null,
      "outputs": []
    },
    {
      "cell_type": "code",
      "metadata": {
        "id": "LOQgpqdbVNZp",
        "colab_type": "code",
        "colab": {}
      },
      "source": [
        "#誤差関数、学習率、最適化手法の指定\n",
        "criterion = nn.CrossEntropyLoss()\n",
        "import torch.optim as optim\n",
        "optimizer = optim.Adam(model.parameters(), lr=0.01)"
      ],
      "execution_count": null,
      "outputs": []
    },
    {
      "cell_type": "code",
      "metadata": {
        "id": "V_SbEXgYVQLr",
        "colab_type": "code",
        "colab": {}
      },
      "source": [
        "#訓練、検証\n",
        "def train(x_train, y_train):\n",
        "  model.train()\n",
        "  x_train = torch.from_numpy(x_train).to(device)\n",
        "  y_train = torch.from_numpy(np.array(y_train)).to(device)\n",
        "  y_train = (y_train.view(1, )).long()\n",
        "  optimizer.zero_grad()\n",
        "  pred_y = model(x_train)\n",
        "  loss = criterion(pred_y, y_train)\n",
        "  loss.backward()\n",
        "  optimizer.step()\n",
        "  return loss.item()\n",
        "\n",
        "def eval(x_val, y_val):\n",
        "  model.eval()\n",
        "  x_val = torch.from_numpy(x_val).cuda()\n",
        "  y_val = torch.from_numpy(np.array(y_val)).cuda()\n",
        "  pred_y = model(x_val)\n",
        "  y_val = (y_val.view(1, )).long()\n",
        "  loss = criterion(pred_y, y_val)\n",
        "  pred = pred_y.argmax()\n",
        "  if pred == y_val:\n",
        "    acc = 1\n",
        "  else:\n",
        "    acc = 0\n",
        "  return acc"
      ],
      "execution_count": null,
      "outputs": []
    },
    {
      "cell_type": "code",
      "metadata": {
        "id": "29t1ZKvwVT1m",
        "colab_type": "code",
        "colab": {}
      },
      "source": [
        "#epoch数の指定\n",
        "EPOCHS = 200\n",
        "\n",
        "loss_train_history = []\n",
        "acc_history = []\n",
        "\n",
        "for epoch in range(EPOCHS):\n",
        "  loss_train = 0\n",
        "  acc = 0\n",
        "\n",
        "  for i in range(batch_size):\n",
        "    n = np.random.randint(0, high=len(X_train))\n",
        "    train_x, train_y = X_train[n], Y_train[n]\n",
        "    loss_train_i = train(train_x, train_y)\n",
        "    loss_train += loss_train_i\n",
        "\n",
        "  for i in range(batch_size):\n",
        "    n = np.random.randint(0, high=len(X_val))\n",
        "    val_x, val_y = X_val[n], Y_val[n]\n",
        "    acc_i = eval(val_x, val_y)\n",
        "    acc += acc_i\n",
        "  \n",
        "  loss_train = loss_train / batch_size\n",
        "  acc = acc / batch_size\n",
        "\n",
        "  loss_train_history.append(loss_train)\n",
        "  acc_history.append(acc)\n",
        "  print(\"epoch: \", epoch)\n",
        "  print(\"loss_train: \", loss_train)\n",
        "  print(\"acc: \", acc)"
      ],
      "execution_count": null,
      "outputs": []
    }
  ]
}